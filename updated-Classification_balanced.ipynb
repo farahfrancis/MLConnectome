{
 "cells": [
  {
   "cell_type": "code",
   "execution_count": 1,
   "metadata": {},
   "outputs": [
    {
     "name": "stderr",
     "output_type": "stream",
     "text": [
      "/Users/farahfrancis/miniconda3/envs/py3iaml/lib/python3.7/site-packages/sklearn/utils/__init__.py:4: DeprecationWarning: Using or importing the ABCs from 'collections' instead of from 'collections.abc' is deprecated since Python 3.3,and in 3.9 it will stop working\n",
      "  from collections import Sequence\n",
      "/Users/farahfrancis/miniconda3/envs/py3iaml/lib/python3.7/site-packages/sklearn/ensemble/weight_boosting.py:29: DeprecationWarning: numpy.core.umath_tests is an internal NumPy module and should not be imported. It will be removed in a future NumPy release.\n",
      "  from numpy.core.umath_tests import inner1d\n"
     ]
    }
   ],
   "source": [
    "#load packages\n",
    "import os\n",
    "import numpy as np \n",
    "import pandas as pd\n",
    "import matplotlib.pyplot as plt\n",
    "import seaborn as sns\n",
    "import graphviz\n",
    "from sklearn.model_selection import train_test_split\n",
    "from sklearn.linear_model import LinearRegression\n",
    "from sklearn.tree import DecisionTreeClassifier, export_graphviz\n",
    "from sklearn.ensemble import RandomForestClassifier\n",
    "from sklearn.metrics import accuracy_score, confusion_matrix, r2_score\n",
    "from sklearn.model_selection import StratifiedKFold\n",
    "from scipy.stats import wilcoxon\n",
    "from sklearn.model_selection import LeaveOneOut\n",
    "from sklearn.model_selection import cross_val_score\n",
    "from sklearn.neighbors import KNeighborsClassifier\n",
    "from sklearn.metrics import confusion_matrix, log_loss\n",
    "from pandas.api.types import CategoricalDtype\n",
    "KNeighboursClassifier = KNeighborsClassifier \n",
    "from sklearn.naive_bayes import GaussianNB\n",
    "from sklearn.svm import SVC\n",
    "from sklearn.svm import LinearSVC, SVC\n",
    "import statistics \n",
    "from sklearn.model_selection import KFold\n",
    "from matplotlib import pyplot\n",
    "from sklearn.naive_bayes import MultinomialNB\n",
    "from sklearn.metrics import classification_report\n",
    "from sklearn.metrics import roc_auc_score\n",
    "from sklearn.metrics import roc_curve, auc\n",
    "from sklearn.model_selection import cross_val_predict\n",
    "from sklearn.model_selection import cross_validate\n",
    "%matplotlib inline"
   ]
  },
  {
   "cell_type": "code",
   "execution_count": 2,
   "metadata": {},
   "outputs": [
    {
     "data": {
      "text/html": [
       "<div>\n",
       "<style scoped>\n",
       "    .dataframe tbody tr th:only-of-type {\n",
       "        vertical-align: middle;\n",
       "    }\n",
       "\n",
       "    .dataframe tbody tr th {\n",
       "        vertical-align: top;\n",
       "    }\n",
       "\n",
       "    .dataframe thead th {\n",
       "        text-align: right;\n",
       "    }\n",
       "</style>\n",
       "<table border=\"1\" class=\"dataframe\">\n",
       "  <thead>\n",
       "    <tr style=\"text-align: right;\">\n",
       "      <th></th>\n",
       "      <th>Disease</th>\n",
       "      <th>Global_coefficient</th>\n",
       "      <th>Glocal_efficiency</th>\n",
       "      <th>Degree_variance(heterogeneity)</th>\n",
       "      <th>Modularity</th>\n",
       "      <th>Hierarchical_complexity</th>\n",
       "      <th>rich_club</th>\n",
       "      <th>Assortativity</th>\n",
       "    </tr>\n",
       "  </thead>\n",
       "  <tbody>\n",
       "    <tr>\n",
       "      <th>0</th>\n",
       "      <td>AD</td>\n",
       "      <td>0.569138</td>\n",
       "      <td>0.636714</td>\n",
       "      <td>0.261647</td>\n",
       "      <td>0.227039</td>\n",
       "      <td>0.378787</td>\n",
       "      <td>0.739755</td>\n",
       "      <td>-0.090050</td>\n",
       "    </tr>\n",
       "    <tr>\n",
       "      <th>1</th>\n",
       "      <td>AD</td>\n",
       "      <td>0.575160</td>\n",
       "      <td>0.630307</td>\n",
       "      <td>0.240216</td>\n",
       "      <td>0.230857</td>\n",
       "      <td>0.261964</td>\n",
       "      <td>0.703501</td>\n",
       "      <td>-0.027115</td>\n",
       "    </tr>\n",
       "    <tr>\n",
       "      <th>2</th>\n",
       "      <td>CN</td>\n",
       "      <td>0.561343</td>\n",
       "      <td>0.637813</td>\n",
       "      <td>0.225127</td>\n",
       "      <td>0.231346</td>\n",
       "      <td>0.261439</td>\n",
       "      <td>0.675434</td>\n",
       "      <td>-0.074011</td>\n",
       "    </tr>\n",
       "    <tr>\n",
       "      <th>3</th>\n",
       "      <td>CN</td>\n",
       "      <td>0.568599</td>\n",
       "      <td>0.634395</td>\n",
       "      <td>0.222688</td>\n",
       "      <td>0.236187</td>\n",
       "      <td>0.143420</td>\n",
       "      <td>0.686520</td>\n",
       "      <td>-0.037257</td>\n",
       "    </tr>\n",
       "    <tr>\n",
       "      <th>4</th>\n",
       "      <td>AD</td>\n",
       "      <td>0.565618</td>\n",
       "      <td>0.633893</td>\n",
       "      <td>0.231078</td>\n",
       "      <td>0.236921</td>\n",
       "      <td>0.219827</td>\n",
       "      <td>0.714186</td>\n",
       "      <td>-0.056369</td>\n",
       "    </tr>\n",
       "  </tbody>\n",
       "</table>\n",
       "</div>"
      ],
      "text/plain": [
       "  Disease  Global_coefficient  Glocal_efficiency  \\\n",
       "0      AD            0.569138           0.636714   \n",
       "1      AD            0.575160           0.630307   \n",
       "2      CN            0.561343           0.637813   \n",
       "3      CN            0.568599           0.634395   \n",
       "4      AD            0.565618           0.633893   \n",
       "\n",
       "   Degree_variance(heterogeneity)  Modularity  Hierarchical_complexity  \\\n",
       "0                        0.261647    0.227039                 0.378787   \n",
       "1                        0.240216    0.230857                 0.261964   \n",
       "2                        0.225127    0.231346                 0.261439   \n",
       "3                        0.222688    0.236187                 0.143420   \n",
       "4                        0.231078    0.236921                 0.219827   \n",
       "\n",
       "   rich_club  Assortativity  \n",
       "0   0.739755      -0.090050  \n",
       "1   0.703501      -0.027115  \n",
       "2   0.675434      -0.074011  \n",
       "3   0.686520      -0.037257  \n",
       "4   0.714186      -0.056369  "
      ]
     },
     "execution_count": 2,
     "metadata": {},
     "output_type": "execute_result"
    }
   ],
   "source": [
    "#load dataset\n",
    "data_path = os.path.join(os.getcwd(), 'datasets', 'disease_balance.csv')\n",
    "data = pd.read_csv(data_path, delimiter = ',')\n",
    "\n",
    "data.head(5)"
   ]
  },
  {
   "cell_type": "code",
   "execution_count": 3,
   "metadata": {},
   "outputs": [
    {
     "name": "stdout",
     "output_type": "stream",
     "text": [
      "(78, 7)\n",
      "['Global_coefficient', 'Glocal_efficiency', 'Degree_variance(heterogeneity)', 'Modularity', 'Hierarchical_complexity', 'rich_club', 'Assortativity']\n",
      "(78,)\n"
     ]
    }
   ],
   "source": [
    "# x-features\n",
    "X = pd.get_dummies(data.drop('Disease', axis = 1))\n",
    "#X = pd.get_dummies(X.drop(labels = ['Global_coefficient'], axis = 1))\n",
    "print(X.shape)\n",
    "column_names = list(X.columns) \n",
    "print(column_names)\n",
    "\n",
    "#y labels(AD vs CN) for train\n",
    "y = data['Disease']\n",
    "print(y.shape)"
   ]
  },
  {
   "cell_type": "code",
   "execution_count": 4,
   "metadata": {},
   "outputs": [],
   "source": [
    "#split between train and validation usinf train_test_split\n",
    "#X_train, X_test, y_train, y_test = train_test_split(X, y, train_size = 0.9, test_size=0.1, random_state=0, shuffle = True, stratify=y)\n",
    "\n"
   ]
  },
  {
   "cell_type": "code",
   "execution_count": 26,
   "metadata": {},
   "outputs": [],
   "source": [
    "#define validation methods\n",
    "#add 10 data. put test data not training\n",
    "skf = StratifiedKFold(n_splits=10, random_state=1, shuffle=True)\n",
    "loo = LeaveOneOut()\n",
    "kfold = KFold(n_splits=10, shuffle=True, random_state=None)\n"
   ]
  },
  {
   "cell_type": "code",
   "execution_count": 27,
   "metadata": {},
   "outputs": [
    {
     "name": "stdout",
     "output_type": "stream",
     "text": [
      "(20, 7)\n",
      "['Global_coefficient', 'Glocal_efficiency', 'Degree_variance(heterogeneity)', 'Modularity', 'Hierarchical_complexity', 'rich_club', 'Assortativity']\n",
      "(20,)\n"
     ]
    }
   ],
   "source": [
    "#upload test data\n",
    "data_path = os.path.join(os.getcwd(), 'datasets', 'disease_balance_test.csv')\n",
    "data_test = pd.read_csv(data_path, delimiter = ',')\n",
    "\n",
    "# x-features\n",
    "X_test = pd.get_dummies(data_test.drop('Disease', axis = 1))\n",
    "#X_test = pd.get_dummies(X_test.drop(labels = ['Global_coefficient'], axis = 1))\n",
    "\n",
    "print(X_test.shape)\n",
    "column_names = list(X.columns) \n",
    "print(column_names)\n",
    "\n",
    "#y labels(AD vs CN) for train\n",
    "y_test = data_test['Disease']\n",
    "print(y_test.shape)"
   ]
  },
  {
   "cell_type": "code",
   "execution_count": 45,
   "metadata": {},
   "outputs": [],
   "source": [
    "def plot_confusion_matrix(cm, classes=None, title='Confusion matrix'):\n",
    "    \"\"\"Plots a confusion matrix.\"\"\"\n",
    "    if classes is not None:\n",
    "        sns.heatmap(cm, xticklabels=classes, yticklabels=classes, vmin=0., vmax=1., annot=True)\n",
    "    else:\n",
    "        sns.heatmap(cm, vmin=0., vmax=1.)\n",
    "    plt.title(title)\n",
    "    plt.ylabel('True label')\n",
    "    plt.xlabel('Predicted label')"
   ]
  },
  {
   "cell_type": "code",
   "execution_count": 28,
   "metadata": {},
   "outputs": [
    {
     "name": "stdout",
     "output_type": "stream",
     "text": [
      "cross_val_score: [1.    0.875 0.875 0.75  0.875 0.875 1.    1.    1.    1.   ]\n",
      "Accuracy: 92.50%\n",
      "Classification accuracy on test set: 20.000\n",
      "[[1 9]\n",
      " [7 3]]\n",
      "             precision    recall  f1-score   support\n",
      "\n",
      "         AD       0.12      0.10      0.11        10\n",
      "         CN       0.25      0.30      0.27        10\n",
      "\n",
      "avg / total       0.19      0.20      0.19        20\n",
      "\n",
      "Sensitivity :  10.0\n",
      "Specificity :  30.0\n"
     ]
    }
   ],
   "source": [
    "#dt\n",
    "dt = DecisionTreeClassifier(criterion='entropy', max_depth=5, random_state=1000)\n",
    "dt = dt.fit(X, y)\n",
    "cv_results = cross_val_score(dt, X, y, cv=skf, scoring='accuracy')\n",
    "print('cross_val_score:', cv_results)\n",
    "print(\"Accuracy: %.2f%%\" % (cv_results.mean()*100.0))\n",
    "\n",
    "prediction_test = dt.predict(X_test)\n",
    "print('Classification accuracy on test set: {:.3f}'.format(accuracy_score(y_test,prediction_test)*100))\n",
    "\n",
    "print(confusion_matrix(y_test,prediction_test))\n",
    "print(classification_report(y_test,prediction_test))\n",
    "\n",
    "cm = confusion_matrix(y_test, prediction_test)\n",
    "sensitivity = cm[0,0]/(cm[0,0]+cm[0,1])\n",
    "print('Sensitivity : ', sensitivity*100)\n",
    "specificity = cm[1,1]/(cm[1,0]+cm[1,1])\n",
    "print('Specificity : ', specificity*100)\n"
   ]
  },
  {
   "cell_type": "code",
   "execution_count": 29,
   "metadata": {},
   "outputs": [],
   "source": [
    "#plot DT tree\n",
    "#dot_data = export_graphviz(dt, out_file=None,  \n",
    "    #feature_names=column_names,                        \n",
    "    #class_names=data['Disease'],  \n",
    "    #filled=True, rounded=True,  \n",
    "    #special_characters=False)\n",
    "#graph = graphviz.Source(dot_data)\n",
    "#graph"
   ]
  },
  {
   "cell_type": "code",
   "execution_count": 46,
   "metadata": {},
   "outputs": [
    {
     "name": "stdout",
     "output_type": "stream",
     "text": [
      "[[35  4]\n",
      " [ 2 37]]\n",
      "             precision    recall  f1-score   support\n",
      "\n",
      "         AD       0.95      0.90      0.92        39\n",
      "         CN       0.90      0.95      0.92        39\n",
      "\n",
      "avg / total       0.92      0.92      0.92        78\n",
      "\n",
      "Sensitivity :  89.74358974358975\n",
      "Specificity :  94.87179487179486\n"
     ]
    },
    {
     "data": {
      "image/png": "[encoded data removed]",
      "text/plain": [
       "<Figure size 432x288 with 2 Axes>"
      ]
     },
     "metadata": {
      "needs_background": "light"
     },
     "output_type": "display_data"
    }
   ],
   "source": [
    "#CV evaluation DT\n",
    "from sklearn.model_selection import cross_val_predict\n",
    "y_train_pred = cross_val_predict(dt, X, y, cv=skf)\n",
    "#print(confusion_matrix(y, y_train_pred))\n",
    "cm = confusion_matrix(y, y_train_pred)\n",
    "print(cm)\n",
    "print(classification_report(y, y_train_pred))\n",
    "sensitivity = cm[0,0]/(cm[0,0]+cm[0,1])\n",
    "print('Sensitivity : ', sensitivity*100 )\n",
    "specificity = cm[1,1]/(cm[1,0]+cm[1,1])\n",
    "print('Specificity : ', specificity*100)\n",
    "\n",
    "plt.figure()\n",
    "plot_confusion_matrix(cm, classes=dt.classes_, title='Confusion Matrix for DF')\n"
   ]
  },
  {
   "cell_type": "code",
   "execution_count": 57,
   "metadata": {},
   "outputs": [
    {
     "name": "stdout",
     "output_type": "stream",
     "text": [
      "cross_val_score: [1.         0.875      1.         0.75       0.75       0.875\n",
      " 1.         1.         1.         0.83333333]\n",
      "Accuracy: 90.83%\n",
      "Classification accuracy on test set: 20.000\n",
      "[[1 9]\n",
      " [7 3]]\n",
      "             precision    recall  f1-score   support\n",
      "\n",
      "         AD       0.12      0.10      0.11        10\n",
      "         CN       0.25      0.30      0.27        10\n",
      "\n",
      "avg / total       0.19      0.20      0.19        20\n",
      "\n",
      "Sensitivity :  10.0\n",
      "Specificity :  30.0\n",
      "['Global_coefficient', 'Glocal_efficiency', 'Degree_variance(heterogeneity)', 'Modularity', 'Hierarchical_complexity', 'rich_club', 'Assortativity']\n"
     ]
    },
    {
     "ename": "NotFittedError",
     "evalue": "This RandomForestClassifier instance is not fitted yet. Call 'fit' with appropriate arguments before using this method.",
     "output_type": "error",
     "traceback": [
      "\u001b[0;31m---------------------------------------------------------------------------\u001b[0m",
      "\u001b[0;31mNotFittedError\u001b[0m                            Traceback (most recent call last)",
      "\u001b[0;32m<ipython-input-57-f71145349209>\u001b[0m in \u001b[0;36m<module>\u001b[0;34m\u001b[0m\n\u001b[1;32m     24\u001b[0m     \u001b[0mclass_names\u001b[0m\u001b[0;34m=\u001b[0m\u001b[0mdata\u001b[0m\u001b[0;34m[\u001b[0m\u001b[0;34m'Disease'\u001b[0m\u001b[0;34m]\u001b[0m\u001b[0;34m,\u001b[0m\u001b[0;34m\u001b[0m\u001b[0;34m\u001b[0m\u001b[0m\n\u001b[1;32m     25\u001b[0m     \u001b[0mfilled\u001b[0m\u001b[0;34m=\u001b[0m\u001b[0;32mTrue\u001b[0m\u001b[0;34m,\u001b[0m \u001b[0mrounded\u001b[0m\u001b[0;34m=\u001b[0m\u001b[0;32mTrue\u001b[0m\u001b[0;34m,\u001b[0m\u001b[0;34m\u001b[0m\u001b[0;34m\u001b[0m\u001b[0m\n\u001b[0;32m---> 26\u001b[0;31m     special_characters=False)\n\u001b[0m\u001b[1;32m     27\u001b[0m \u001b[0mgraph\u001b[0m \u001b[0;34m=\u001b[0m \u001b[0mgraphviz\u001b[0m\u001b[0;34m.\u001b[0m\u001b[0mSource\u001b[0m\u001b[0;34m(\u001b[0m\u001b[0mdot_data\u001b[0m\u001b[0;34m)\u001b[0m\u001b[0;34m\u001b[0m\u001b[0;34m\u001b[0m\u001b[0m\n\u001b[1;32m     28\u001b[0m \u001b[0mgraph\u001b[0m\u001b[0;34m\u001b[0m\u001b[0;34m\u001b[0m\u001b[0m\n",
      "\u001b[0;32m~/miniconda3/envs/py3iaml/lib/python3.7/site-packages/sklearn/tree/export.py\u001b[0m in \u001b[0;36mexport_graphviz\u001b[0;34m(decision_tree, out_file, max_depth, feature_names, class_names, label, filled, leaves_parallel, impurity, node_ids, proportion, rotate, rounded, special_characters, precision)\u001b[0m\n\u001b[1;32m    390\u001b[0m                 \u001b[0mout_file\u001b[0m\u001b[0;34m.\u001b[0m\u001b[0mwrite\u001b[0m\u001b[0;34m(\u001b[0m\u001b[0;34m'%d -> %d ;\\n'\u001b[0m \u001b[0;34m%\u001b[0m \u001b[0;34m(\u001b[0m\u001b[0mparent\u001b[0m\u001b[0;34m,\u001b[0m \u001b[0mnode_id\u001b[0m\u001b[0;34m)\u001b[0m\u001b[0;34m)\u001b[0m\u001b[0;34m\u001b[0m\u001b[0;34m\u001b[0m\u001b[0m\n\u001b[1;32m    391\u001b[0m \u001b[0;34m\u001b[0m\u001b[0m\n\u001b[0;32m--> 392\u001b[0;31m     \u001b[0mcheck_is_fitted\u001b[0m\u001b[0;34m(\u001b[0m\u001b[0mdecision_tree\u001b[0m\u001b[0;34m,\u001b[0m \u001b[0;34m'tree_'\u001b[0m\u001b[0;34m)\u001b[0m\u001b[0;34m\u001b[0m\u001b[0;34m\u001b[0m\u001b[0m\n\u001b[0m\u001b[1;32m    393\u001b[0m     \u001b[0mown_file\u001b[0m \u001b[0;34m=\u001b[0m \u001b[0;32mFalse\u001b[0m\u001b[0;34m\u001b[0m\u001b[0;34m\u001b[0m\u001b[0m\n\u001b[1;32m    394\u001b[0m     \u001b[0mreturn_string\u001b[0m \u001b[0;34m=\u001b[0m \u001b[0;32mFalse\u001b[0m\u001b[0;34m\u001b[0m\u001b[0;34m\u001b[0m\u001b[0m\n",
      "\u001b[0;32m~/miniconda3/envs/py3iaml/lib/python3.7/site-packages/sklearn/utils/validation.py\u001b[0m in \u001b[0;36mcheck_is_fitted\u001b[0;34m(estimator, attributes, msg, all_or_any)\u001b[0m\n\u001b[1;32m    766\u001b[0m \u001b[0;34m\u001b[0m\u001b[0m\n\u001b[1;32m    767\u001b[0m     \u001b[0;32mif\u001b[0m \u001b[0;32mnot\u001b[0m \u001b[0mall_or_any\u001b[0m\u001b[0;34m(\u001b[0m\u001b[0;34m[\u001b[0m\u001b[0mhasattr\u001b[0m\u001b[0;34m(\u001b[0m\u001b[0mestimator\u001b[0m\u001b[0;34m,\u001b[0m \u001b[0mattr\u001b[0m\u001b[0;34m)\u001b[0m \u001b[0;32mfor\u001b[0m \u001b[0mattr\u001b[0m \u001b[0;32min\u001b[0m \u001b[0mattributes\u001b[0m\u001b[0;34m]\u001b[0m\u001b[0;34m)\u001b[0m\u001b[0;34m:\u001b[0m\u001b[0;34m\u001b[0m\u001b[0;34m\u001b[0m\u001b[0m\n\u001b[0;32m--> 768\u001b[0;31m         \u001b[0;32mraise\u001b[0m \u001b[0mNotFittedError\u001b[0m\u001b[0;34m(\u001b[0m\u001b[0mmsg\u001b[0m \u001b[0;34m%\u001b[0m \u001b[0;34m{\u001b[0m\u001b[0;34m'name'\u001b[0m\u001b[0;34m:\u001b[0m \u001b[0mtype\u001b[0m\u001b[0;34m(\u001b[0m\u001b[0mestimator\u001b[0m\u001b[0;34m)\u001b[0m\u001b[0;34m.\u001b[0m\u001b[0m__name__\u001b[0m\u001b[0;34m}\u001b[0m\u001b[0;34m)\u001b[0m\u001b[0;34m\u001b[0m\u001b[0;34m\u001b[0m\u001b[0m\n\u001b[0m\u001b[1;32m    769\u001b[0m \u001b[0;34m\u001b[0m\u001b[0m\n\u001b[1;32m    770\u001b[0m \u001b[0;34m\u001b[0m\u001b[0m\n",
      "\u001b[0;31mNotFittedError\u001b[0m: This RandomForestClassifier instance is not fitted yet. Call 'fit' with appropriate arguments before using this method."
     ]
    }
   ],
   "source": [
    "rf = RandomForestClassifier(n_estimators=500, criterion='entropy')\n",
    "rf = rf.fit(X, y)\n",
    "cv_results = cross_val_score(rf, X, y, cv=skf, scoring='accuracy')\n",
    "print('cross_val_score:', cv_results)\n",
    "print(\"Accuracy: %.2f%%\" % (cv_results.mean()*100.0))\n",
    "\n",
    "prediction_train = dt.predict(X=X)\n",
    "prediction_test = dt.predict(X=X_test)\n",
    "print('Classification accuracy on test set: {:.3f}'.format(accuracy_score(y_test,prediction_test)*100))\n",
    "\n",
    "print(confusion_matrix(y_test,prediction_test))\n",
    "print(classification_report(y_test,prediction_test))\n",
    "cm = confusion_matrix(y_test, prediction_test)\n",
    "sensitivity = cm[0,0]/(cm[0,0]+cm[0,1])\n",
    "print('Sensitivity : ', sensitivity*100 )\n",
    "specificity = cm[1,1]/(cm[1,0]+cm[1,1])\n",
    "print('Specificity : ', specificity*100)\n",
    "\n",
    "column_names = list(X.columns) \n",
    "print(column_names)\n",
    "\n",
    "dot_data = export_graphviz(rf, out_file=None,  \n",
    "    feature_names=column_names,                        \n",
    "    class_names=data['Disease'],  \n",
    "    filled=True, rounded=True,  \n",
    "    special_characters=False)\n",
    "graph = graphviz.Source(dot_data)\n",
    "graph"
   ]
  },
  {
   "cell_type": "code",
   "execution_count": 48,
   "metadata": {},
   "outputs": [
    {
     "name": "stdout",
     "output_type": "stream",
     "text": [
      "[[36  3]\n",
      " [ 3 36]]\n",
      "             precision    recall  f1-score   support\n",
      "\n",
      "         AD       0.92      0.92      0.92        39\n",
      "         CN       0.92      0.92      0.92        39\n",
      "\n",
      "avg / total       0.92      0.92      0.92        78\n",
      "\n",
      "Sensitivity :  92.3076923076923\n",
      "Specificity :  92.3076923076923\n"
     ]
    },
    {
     "data": {
      "image/png": "[encoded data removed]",
      "text/plain": [
       "<Figure size 432x288 with 2 Axes>"
      ]
     },
     "metadata": {
      "needs_background": "light"
     },
     "output_type": "display_data"
    }
   ],
   "source": [
    "#CV evaluation rf\n",
    "from sklearn.model_selection import cross_val_predict\n",
    "y_train_pred = cross_val_predict(rf, X, y, cv=skf)\n",
    "#print(confusion_matrix(y, y_train_pred))\n",
    "cm = confusion_matrix(y, y_train_pred)\n",
    "print(cm)\n",
    "print(classification_report(y, y_train_pred))\n",
    "sensitivity = cm[0,0]/(cm[0,0]+cm[0,1])\n",
    "print('Sensitivity : ', sensitivity*100 )\n",
    "specificity = cm[1,1]/(cm[1,0]+cm[1,1])\n",
    "print('Specificity : ', specificity*100)\n",
    "\n",
    "plt.figure()\n",
    "plot_confusion_matrix(cm, classes=dt.classes_, title='Confusion Matrix for RF')\n",
    "\n"
   ]
  },
  {
   "cell_type": "code",
   "execution_count": 33,
   "metadata": {},
   "outputs": [
    {
     "name": "stdout",
     "output_type": "stream",
     "text": [
      "cross_val_score: [1.         0.625      0.875      0.625      0.75       0.625\n",
      " 0.75       0.75       0.75       0.83333333]\n",
      "Accuracy: 75.83%\n",
      "Classification accuracy on test set: 35.000\n",
      "[[4 6]\n",
      " [7 3]]\n",
      "             precision    recall  f1-score   support\n",
      "\n",
      "         AD       0.36      0.40      0.38        10\n",
      "         CN       0.33      0.30      0.32        10\n",
      "\n",
      "avg / total       0.35      0.35      0.35        20\n",
      "\n",
      "Sensitivity :  40.0\n",
      "Specificity :  30.0\n"
     ]
    }
   ],
   "source": [
    "svc_linear = LinearSVC()\n",
    "svc = svc_linear.fit(X, y)\n",
    "cv_results = cross_val_score(svc, X, y, cv=skf, scoring='accuracy')\n",
    "print('cross_val_score:', cv_results)\n",
    "print(\"Accuracy: %.2f%%\" % (cv_results.mean()*100.0))\n",
    "\n",
    "prediction_test = svc.predict(X=X_test)\n",
    "print('Classification accuracy on test set: {:.3f}'.format(accuracy_score(y_test,prediction_test)*100))\n",
    "\n",
    "print(confusion_matrix(y_test,prediction_test))\n",
    "print(classification_report(y_test,prediction_test))\n",
    "\n",
    "cm = confusion_matrix(y_test, prediction_test)\n",
    "sensitivity = cm[0,0]/(cm[0,0]+cm[0,1])\n",
    "print('Sensitivity : ', sensitivity*100 )\n",
    "specificity = cm[1,1]/(cm[1,0]+cm[1,1])\n",
    "print('Specificity : ', specificity*100)\n"
   ]
  },
  {
   "cell_type": "code",
   "execution_count": 49,
   "metadata": {},
   "outputs": [
    {
     "name": "stdout",
     "output_type": "stream",
     "text": [
      "[[28 11]\n",
      " [ 8 31]]\n",
      "             precision    recall  f1-score   support\n",
      "\n",
      "         AD       0.78      0.72      0.75        39\n",
      "         CN       0.74      0.79      0.77        39\n",
      "\n",
      "avg / total       0.76      0.76      0.76        78\n",
      "\n",
      "Sensitivity :  71.7948717948718\n",
      "Specificity :  79.48717948717949\n"
     ]
    },
    {
     "data": {
      "image/png": "[encoded data removed]",
      "text/plain": [
       "<Figure size 432x288 with 2 Axes>"
      ]
     },
     "metadata": {
      "needs_background": "light"
     },
     "output_type": "display_data"
    }
   ],
   "source": [
    "#CV evaluation svm\n",
    "from sklearn.model_selection import cross_val_predict\n",
    "y_train_pred = cross_val_predict(svc, X, y, cv=skf)\n",
    "#print(confusion_matrix(y, y_train_pred))\n",
    "cm = confusion_matrix(y, y_train_pred)\n",
    "print(cm)\n",
    "print(classification_report(y, y_train_pred))\n",
    "sensitivity = cm[0,0]/(cm[0,0]+cm[0,1])\n",
    "print('Sensitivity : ', sensitivity*100 )\n",
    "specificity = cm[1,1]/(cm[1,0]+cm[1,1])\n",
    "print('Specificity : ', specificity*100)\n",
    "\n",
    "plt.figure()\n",
    "plot_confusion_matrix(cm, classes=dt.classes_, title='Confusion Matrix for SVM')\n"
   ]
  },
  {
   "cell_type": "code",
   "execution_count": 35,
   "metadata": {},
   "outputs": [
    {
     "name": "stdout",
     "output_type": "stream",
     "text": [
      "cross_val_score: [1.    1.    1.    0.875 1.    0.875 0.75  1.    1.    1.   ]\n",
      "Accuracy: 95.00%\n",
      "Classification accuracy on test set: 35.000\n",
      "[[4 6]\n",
      " [7 3]]\n",
      "             precision    recall  f1-score   support\n",
      "\n",
      "         AD       0.36      0.40      0.38        10\n",
      "         CN       0.33      0.30      0.32        10\n",
      "\n",
      "avg / total       0.35      0.35      0.35        20\n",
      "\n",
      "Sensitivity :  40.0\n",
      "Specificity :  30.0\n"
     ]
    }
   ],
   "source": [
    "knn = KNeighborsClassifier(n_neighbors=1)\n",
    "knn = knn.fit(X, y)\n",
    "cv_results = cross_val_score(knn, X, y, cv=skf, scoring='accuracy')\n",
    "print('cross_val_score:', cv_results)\n",
    "print(\"Accuracy: %.2f%%\" % (cv_results.mean()*100.0))\n",
    "\n",
    "prediction_test = svc.predict(X=X_test)\n",
    "print('Classification accuracy on test set: {:.3f}'.format(accuracy_score(y_test,prediction_test)*100))\n",
    "\n",
    "print(confusion_matrix(y_test,prediction_test))\n",
    "print(classification_report(y_test,prediction_test))\n",
    "\n",
    "cm = confusion_matrix(y_test, prediction_test)\n",
    "sensitivity = cm[0,0]/(cm[0,0]+cm[0,1])\n",
    "print('Sensitivity : ', sensitivity*100 )\n",
    "specificity = cm[1,1]/(cm[1,0]+cm[1,1])\n",
    "print('Specificity : ', specificity*100)\n"
   ]
  },
  {
   "cell_type": "code",
   "execution_count": 50,
   "metadata": {},
   "outputs": [
    {
     "name": "stdout",
     "output_type": "stream",
     "text": [
      "[[36  3]\n",
      " [ 5 34]]\n",
      "             precision    recall  f1-score   support\n",
      "\n",
      "         AD       0.88      0.92      0.90        39\n",
      "         CN       0.92      0.87      0.89        39\n",
      "\n",
      "avg / total       0.90      0.90      0.90        78\n",
      "\n",
      "Sensitivity :  92.3076923076923\n",
      "Specificity :  87.17948717948718\n"
     ]
    },
    {
     "data": {
      "image/png": "[encoded data removed]",
      "text/plain": [
       "<Figure size 432x288 with 2 Axes>"
      ]
     },
     "metadata": {
      "needs_background": "light"
     },
     "output_type": "display_data"
    }
   ],
   "source": [
    "#CV evaluation knn\n",
    "from sklearn.model_selection import cross_val_predict\n",
    "y_train_pred = cross_val_predict(knn, X, y, cv=skf)\n",
    "#print(confusion_matrix(y, y_train_pred))\n",
    "cm = confusion_matrix(y, y_train_pred)\n",
    "print(cm)\n",
    "print(classification_report(y, y_train_pred))\n",
    "sensitivity = cm[0,0]/(cm[0,0]+cm[0,1])\n",
    "print('Sensitivity : ', sensitivity*100 )\n",
    "specificity = cm[1,1]/(cm[1,0]+cm[1,1])\n",
    "print('Specificity : ', specificity*100)\n",
    "\n",
    "plt.figure()\n",
    "plot_confusion_matrix(cm, classes=dt.classes_, title='Confusion Matrix for KNN')\n"
   ]
  },
  {
   "cell_type": "code",
   "execution_count": 37,
   "metadata": {},
   "outputs": [
    {
     "name": "stdout",
     "output_type": "stream",
     "text": [
      "Performance on test with 1 nearest neighbours: 15.000\n",
      "Performance on test with 2 nearest neighbours: 35.000\n",
      "Performance on test with 3 nearest neighbours: 30.000\n",
      "Performance on test with 4 nearest neighbours: 35.000\n",
      "Performance on test with 5 nearest neighbours: 25.000\n",
      "Performance on test with 6 nearest neighbours: 20.000\n",
      "Performance on test with 7 nearest neighbours: 20.000\n"
     ]
    }
   ],
   "source": [
    "#try with different k values\n",
    "k_list = [1,2,3,4,5,6,7]\n",
    "ca = []\n",
    "for k in k_list:\n",
    "    knn = KNeighborsClassifier(n_neighbors=k).fit(X, y)\n",
    "    score = knn.score(X_test,y_test)*100\n",
    "    ca.append(score)\n",
    "    print('Performance on test with {} nearest neighbours: {:.3f}'.format(k, score))"
   ]
  },
  {
   "cell_type": "code",
   "execution_count": 61,
   "metadata": {},
   "outputs": [
    {
     "name": "stdout",
     "output_type": "stream",
     "text": [
      "cross_val_score: [0.375      0.75       0.625      0.125      0.5        0.375\n",
      " 0.75       0.625      0.57142857 0.28571429]\n",
      "Accuracy: 49.82%\n",
      "Classification accuracy on test set: 35.000\n",
      "[[4 6]\n",
      " [7 3]]\n",
      "             precision    recall  f1-score   support\n",
      "\n",
      "         AD       0.36      0.40      0.38        10\n",
      "         CN       0.33      0.30      0.32        10\n",
      "\n",
      "avg / total       0.35      0.35      0.35        20\n",
      "\n",
      "Sensitivity :  40.0\n",
      "Specificity :  30.0\n"
     ]
    }
   ],
   "source": [
    "#try on ANN\n",
    "from sklearn.neural_network import MLPClassifier\n",
    "mlp_simple = MLPClassifier(hidden_layer_sizes=(10), early_stopping=True, random_state=42)\n",
    "mlp_simple.fit(X, y)\n",
    "cv_results = cross_val_score(mlp_simple, X, y, cv=kfold, scoring='accuracy')\n",
    "print('cross_val_score:', cv_results)\n",
    "print(\"Accuracy: %.2f%%\" % (cv_results.mean()*100.0))\n",
    "\n",
    "prediction_test = svc.predict(X=X_test)\n",
    "print('Classification accuracy on test set: {:.3f}'.format(accuracy_score(y_test,prediction_test)*100))\n",
    "\n",
    "print(confusion_matrix(y_test,prediction_test))\n",
    "print(classification_report(y_test,prediction_test))\n",
    "\n",
    "cm = confusion_matrix(y_test, prediction_test)\n",
    "sensitivity = cm[0,0]/(cm[0,0]+cm[0,1])\n",
    "print('Sensitivity : ', sensitivity*100 )\n",
    "specificity = cm[1,1]/(cm[1,0]+cm[1,1])\n",
    "print('Specificity : ', specificity*100)\n"
   ]
  },
  {
   "cell_type": "code",
   "execution_count": 52,
   "metadata": {},
   "outputs": [
    {
     "name": "stdout",
     "output_type": "stream",
     "text": [
      "[[39  0]\n",
      " [39  0]]\n",
      "             precision    recall  f1-score   support\n",
      "\n",
      "         AD       0.50      1.00      0.67        39\n",
      "         CN       0.00      0.00      0.00        39\n",
      "\n",
      "avg / total       0.25      0.50      0.33        78\n",
      "\n",
      "Sensitivity :  100.0\n",
      "Specificity :  0.0\n"
     ]
    },
    {
     "name": "stderr",
     "output_type": "stream",
     "text": [
      "/Users/farahfrancis/miniconda3/envs/py3iaml/lib/python3.7/site-packages/sklearn/metrics/classification.py:1135: UndefinedMetricWarning: Precision and F-score are ill-defined and being set to 0.0 in labels with no predicted samples.\n",
      "  'precision', 'predicted', average, warn_for)\n"
     ]
    },
    {
     "data": {
      "image/png": "[encoded data removed]",
      "text/plain": [
       "<Figure size 432x288 with 2 Axes>"
      ]
     },
     "metadata": {
      "needs_background": "light"
     },
     "output_type": "display_data"
    }
   ],
   "source": [
    "#CV evaluation ann\n",
    "from sklearn.model_selection import cross_val_predict\n",
    "y_train_pred = cross_val_predict(mlp_simple, X, y, cv=skf)\n",
    "#print(confusion_matrix(y, y_train_pred))\n",
    "cm = confusion_matrix(y, y_train_pred)\n",
    "print(cm)\n",
    "print(classification_report(y, y_train_pred))\n",
    "sensitivity = cm[0,0]/(cm[0,0]+cm[0,1])\n",
    "print('Sensitivity : ', sensitivity*100 )\n",
    "specificity = cm[1,1]/(cm[1,0]+cm[1,1])\n",
    "print('Specificity : ', specificity*100)\n",
    "\n",
    "plt.figure()\n",
    "plot_confusion_matrix(cm, classes=dt.classes_, title='Confusion Matrix for ANN')\n"
   ]
  },
  {
   "cell_type": "code",
   "execution_count": 55,
   "metadata": {},
   "outputs": [
    {
     "name": "stdout",
     "output_type": "stream",
     "text": [
      "['Global_coefficient', 'Glocal_efficiency', 'Degree_variance(heterogeneity)', 'Modularity', 'Hierarchical_complexity', 'rich_club', 'Assortativity']\n"
     ]
    },
    {
     "data": {
      "image/svg+xml": [
       "<?xml version=\"1.0\" encoding=\"UTF-8\" standalone=\"no\"?>\n",
       "<!DOCTYPE svg PUBLIC \"-//W3C//DTD SVG 1.1//EN\"\n",
       " \"http://www.w3.org/Graphics/SVG/1.1/DTD/svg11.dtd\">\n",
       "<!-- Generated by graphviz version 2.40.1 (20161225.0304)\n",
       " -->\n",
       "<!-- Title: Tree Pages: 1 -->\n",
       "<svg width=\"408pt\" height=\"552pt\"\n",
       " viewBox=\"0.00 0.00 407.50 552.00\" xmlns=\"http://www.w3.org/2000/svg\" xmlns:xlink=\"http://www.w3.org/1999/xlink\">\n",
       "<g id=\"graph0\" class=\"graph\" transform=\"scale(1 1) rotate(0) translate(4 548)\">\n",
       "<title>Tree</title>\n",
       "<polygon fill=\"#ffffff\" stroke=\"transparent\" points=\"-4,4 -4,-548 403.5,-548 403.5,4 -4,4\"/>\n",
       "<!-- 0 -->\n",
       "<g id=\"node1\" class=\"node\">\n",
       "<title>0</title>\n",
       "<path fill=\"transparent\" stroke=\"#000000\" d=\"M210.5,-544C210.5,-544 102.5,-544 102.5,-544 96.5,-544 90.5,-538 90.5,-532 90.5,-532 90.5,-473 90.5,-473 90.5,-467 96.5,-461 102.5,-461 102.5,-461 210.5,-461 210.5,-461 216.5,-461 222.5,-467 222.5,-473 222.5,-473 222.5,-532 222.5,-532 222.5,-538 216.5,-544 210.5,-544\"/>\n",
       "<text text-anchor=\"middle\" x=\"156.5\" y=\"-528.8\" font-family=\"Helvetica,sans-Serif\" font-size=\"14.00\" fill=\"#000000\">rich_club &lt;= 0.692</text>\n",
       "<text text-anchor=\"middle\" x=\"156.5\" y=\"-513.8\" font-family=\"Helvetica,sans-Serif\" font-size=\"14.00\" fill=\"#000000\">entropy = 1.0</text>\n",
       "<text text-anchor=\"middle\" x=\"156.5\" y=\"-498.8\" font-family=\"Helvetica,sans-Serif\" font-size=\"14.00\" fill=\"#000000\">samples = 78</text>\n",
       "<text text-anchor=\"middle\" x=\"156.5\" y=\"-483.8\" font-family=\"Helvetica,sans-Serif\" font-size=\"14.00\" fill=\"#000000\">value = [39, 39]</text>\n",
       "<text text-anchor=\"middle\" x=\"156.5\" y=\"-468.8\" font-family=\"Helvetica,sans-Serif\" font-size=\"14.00\" fill=\"#000000\">class = AD</text>\n",
       "</g>\n",
       "<!-- 1 -->\n",
       "<g id=\"node2\" class=\"node\">\n",
       "<title>1</title>\n",
       "<path fill=\"#399de5\" stroke=\"#000000\" d=\"M93,-417.5C93,-417.5 12,-417.5 12,-417.5 6,-417.5 0,-411.5 0,-405.5 0,-405.5 0,-361.5 0,-361.5 0,-355.5 6,-349.5 12,-349.5 12,-349.5 93,-349.5 93,-349.5 99,-349.5 105,-355.5 105,-361.5 105,-361.5 105,-405.5 105,-405.5 105,-411.5 99,-417.5 93,-417.5\"/>\n",
       "<text text-anchor=\"middle\" x=\"52.5\" y=\"-402.3\" font-family=\"Helvetica,sans-Serif\" font-size=\"14.00\" fill=\"#000000\">entropy = 0.0</text>\n",
       "<text text-anchor=\"middle\" x=\"52.5\" y=\"-387.3\" font-family=\"Helvetica,sans-Serif\" font-size=\"14.00\" fill=\"#000000\">samples = 36</text>\n",
       "<text text-anchor=\"middle\" x=\"52.5\" y=\"-372.3\" font-family=\"Helvetica,sans-Serif\" font-size=\"14.00\" fill=\"#000000\">value = [0, 36]</text>\n",
       "<text text-anchor=\"middle\" x=\"52.5\" y=\"-357.3\" font-family=\"Helvetica,sans-Serif\" font-size=\"14.00\" fill=\"#000000\">class = AD</text>\n",
       "</g>\n",
       "<!-- 0&#45;&gt;1 -->\n",
       "<g id=\"edge1\" class=\"edge\">\n",
       "<title>0&#45;&gt;1</title>\n",
       "<path fill=\"none\" stroke=\"#000000\" d=\"M120.1258,-460.8796C110.1314,-449.4436 99.288,-437.0363 89.2714,-425.575\"/>\n",
       "<polygon fill=\"#000000\" stroke=\"#000000\" points=\"91.7055,-423.0414 82.4895,-417.8149 86.4347,-427.6479 91.7055,-423.0414\"/>\n",
       "<text text-anchor=\"middle\" x=\"80.8117\" y=\"-439.0586\" font-family=\"Helvetica,sans-Serif\" font-size=\"14.00\" fill=\"#000000\">True</text>\n",
       "</g>\n",
       "<!-- 2 -->\n",
       "<g id=\"node3\" class=\"node\">\n",
       "<title>2</title>\n",
       "<path fill=\"#e58139\" fill-opacity=\"0.921569\" stroke=\"#000000\" d=\"M387.5,-425C387.5,-425 135.5,-425 135.5,-425 129.5,-425 123.5,-419 123.5,-413 123.5,-413 123.5,-354 123.5,-354 123.5,-348 129.5,-342 135.5,-342 135.5,-342 387.5,-342 387.5,-342 393.5,-342 399.5,-348 399.5,-354 399.5,-354 399.5,-413 399.5,-413 399.5,-419 393.5,-425 387.5,-425\"/>\n",
       "<text text-anchor=\"middle\" x=\"261.5\" y=\"-409.8\" font-family=\"Helvetica,sans-Serif\" font-size=\"14.00\" fill=\"#000000\">Degree_variance(heterogeneity) &lt;= 0.224</text>\n",
       "<text text-anchor=\"middle\" x=\"261.5\" y=\"-394.8\" font-family=\"Helvetica,sans-Serif\" font-size=\"14.00\" fill=\"#000000\">entropy = 0.371</text>\n",
       "<text text-anchor=\"middle\" x=\"261.5\" y=\"-379.8\" font-family=\"Helvetica,sans-Serif\" font-size=\"14.00\" fill=\"#000000\">samples = 42</text>\n",
       "<text text-anchor=\"middle\" x=\"261.5\" y=\"-364.8\" font-family=\"Helvetica,sans-Serif\" font-size=\"14.00\" fill=\"#000000\">value = [39, 3]</text>\n",
       "<text text-anchor=\"middle\" x=\"261.5\" y=\"-349.8\" font-family=\"Helvetica,sans-Serif\" font-size=\"14.00\" fill=\"#000000\">class = AD</text>\n",
       "</g>\n",
       "<!-- 0&#45;&gt;2 -->\n",
       "<g id=\"edge2\" class=\"edge\">\n",
       "<title>0&#45;&gt;2</title>\n",
       "<path fill=\"none\" stroke=\"#000000\" d=\"M193.2239,-460.8796C201.1707,-451.8733 209.649,-442.2644 217.8326,-432.9897\"/>\n",
       "<polygon fill=\"#000000\" stroke=\"#000000\" points=\"220.6275,-435.1122 224.6193,-425.2981 215.3787,-430.4808 220.6275,-435.1122\"/>\n",
       "<text text-anchor=\"middle\" x=\"226.1788\" y=\"-446.5494\" font-family=\"Helvetica,sans-Serif\" font-size=\"14.00\" fill=\"#000000\">False</text>\n",
       "</g>\n",
       "<!-- 3 -->\n",
       "<g id=\"node4\" class=\"node\">\n",
       "<title>3</title>\n",
       "<path fill=\"#e58139\" fill-opacity=\"0.250980\" stroke=\"#000000\" d=\"M260,-306C260,-306 103,-306 103,-306 97,-306 91,-300 91,-294 91,-294 91,-235 91,-235 91,-229 97,-223 103,-223 103,-223 260,-223 260,-223 266,-223 272,-229 272,-235 272,-235 272,-294 272,-294 272,-300 266,-306 260,-306\"/>\n",
       "<text text-anchor=\"middle\" x=\"181.5\" y=\"-290.8\" font-family=\"Helvetica,sans-Serif\" font-size=\"14.00\" fill=\"#000000\">Glocal_efficiency &lt;= 0.636</text>\n",
       "<text text-anchor=\"middle\" x=\"181.5\" y=\"-275.8\" font-family=\"Helvetica,sans-Serif\" font-size=\"14.00\" fill=\"#000000\">entropy = 0.985</text>\n",
       "<text text-anchor=\"middle\" x=\"181.5\" y=\"-260.8\" font-family=\"Helvetica,sans-Serif\" font-size=\"14.00\" fill=\"#000000\">samples = 7</text>\n",
       "<text text-anchor=\"middle\" x=\"181.5\" y=\"-245.8\" font-family=\"Helvetica,sans-Serif\" font-size=\"14.00\" fill=\"#000000\">value = [4, 3]</text>\n",
       "<text text-anchor=\"middle\" x=\"181.5\" y=\"-230.8\" font-family=\"Helvetica,sans-Serif\" font-size=\"14.00\" fill=\"#000000\">class = AD</text>\n",
       "</g>\n",
       "<!-- 2&#45;&gt;3 -->\n",
       "<g id=\"edge3\" class=\"edge\">\n",
       "<title>2&#45;&gt;3</title>\n",
       "<path fill=\"none\" stroke=\"#000000\" d=\"M233.5199,-341.8796C227.6469,-333.1434 221.3927,-323.8404 215.3321,-314.8253\"/>\n",
       "<polygon fill=\"#000000\" stroke=\"#000000\" points=\"218.0834,-312.6444 209.5995,-306.2981 212.2741,-316.5498 218.0834,-312.6444\"/>\n",
       "</g>\n",
       "<!-- 8 -->\n",
       "<g id=\"node9\" class=\"node\">\n",
       "<title>8</title>\n",
       "<path fill=\"#e58139\" stroke=\"#000000\" d=\"M383,-298.5C383,-298.5 302,-298.5 302,-298.5 296,-298.5 290,-292.5 290,-286.5 290,-286.5 290,-242.5 290,-242.5 290,-236.5 296,-230.5 302,-230.5 302,-230.5 383,-230.5 383,-230.5 389,-230.5 395,-236.5 395,-242.5 395,-242.5 395,-286.5 395,-286.5 395,-292.5 389,-298.5 383,-298.5\"/>\n",
       "<text text-anchor=\"middle\" x=\"342.5\" y=\"-283.3\" font-family=\"Helvetica,sans-Serif\" font-size=\"14.00\" fill=\"#000000\">entropy = 0.0</text>\n",
       "<text text-anchor=\"middle\" x=\"342.5\" y=\"-268.3\" font-family=\"Helvetica,sans-Serif\" font-size=\"14.00\" fill=\"#000000\">samples = 35</text>\n",
       "<text text-anchor=\"middle\" x=\"342.5\" y=\"-253.3\" font-family=\"Helvetica,sans-Serif\" font-size=\"14.00\" fill=\"#000000\">value = [35, 0]</text>\n",
       "<text text-anchor=\"middle\" x=\"342.5\" y=\"-238.3\" font-family=\"Helvetica,sans-Serif\" font-size=\"14.00\" fill=\"#000000\">class = AD</text>\n",
       "</g>\n",
       "<!-- 2&#45;&gt;8 -->\n",
       "<g id=\"edge8\" class=\"edge\">\n",
       "<title>2&#45;&gt;8</title>\n",
       "<path fill=\"none\" stroke=\"#000000\" d=\"M289.8299,-341.8796C297.4643,-330.6636 305.7348,-318.5131 313.4099,-307.2372\"/>\n",
       "<polygon fill=\"#000000\" stroke=\"#000000\" points=\"316.4092,-309.0511 319.1428,-298.8149 310.6225,-305.1122 316.4092,-309.0511\"/>\n",
       "</g>\n",
       "<!-- 4 -->\n",
       "<g id=\"node5\" class=\"node\">\n",
       "<title>4</title>\n",
       "<path fill=\"#e58139\" stroke=\"#000000\" d=\"M139,-179.5C139,-179.5 64,-179.5 64,-179.5 58,-179.5 52,-173.5 52,-167.5 52,-167.5 52,-123.5 52,-123.5 52,-117.5 58,-111.5 64,-111.5 64,-111.5 139,-111.5 139,-111.5 145,-111.5 151,-117.5 151,-123.5 151,-123.5 151,-167.5 151,-167.5 151,-173.5 145,-179.5 139,-179.5\"/>\n",
       "<text text-anchor=\"middle\" x=\"101.5\" y=\"-164.3\" font-family=\"Helvetica,sans-Serif\" font-size=\"14.00\" fill=\"#000000\">entropy = 0.0</text>\n",
       "<text text-anchor=\"middle\" x=\"101.5\" y=\"-149.3\" font-family=\"Helvetica,sans-Serif\" font-size=\"14.00\" fill=\"#000000\">samples = 3</text>\n",
       "<text text-anchor=\"middle\" x=\"101.5\" y=\"-134.3\" font-family=\"Helvetica,sans-Serif\" font-size=\"14.00\" fill=\"#000000\">value = [3, 0]</text>\n",
       "<text text-anchor=\"middle\" x=\"101.5\" y=\"-119.3\" font-family=\"Helvetica,sans-Serif\" font-size=\"14.00\" fill=\"#000000\">class = AD</text>\n",
       "</g>\n",
       "<!-- 3&#45;&gt;4 -->\n",
       "<g id=\"edge4\" class=\"edge\">\n",
       "<title>3&#45;&gt;4</title>\n",
       "<path fill=\"none\" stroke=\"#000000\" d=\"M153.5199,-222.8796C145.9797,-211.6636 137.8113,-199.5131 130.2309,-188.2372\"/>\n",
       "<polygon fill=\"#000000\" stroke=\"#000000\" points=\"133.0527,-186.1612 124.5689,-179.8149 127.2434,-190.0667 133.0527,-186.1612\"/>\n",
       "</g>\n",
       "<!-- 5 -->\n",
       "<g id=\"node6\" class=\"node\">\n",
       "<title>5</title>\n",
       "<path fill=\"#399de5\" fill-opacity=\"0.666667\" stroke=\"#000000\" d=\"M344,-187C344,-187 181,-187 181,-187 175,-187 169,-181 169,-175 169,-175 169,-116 169,-116 169,-110 175,-104 181,-104 181,-104 344,-104 344,-104 350,-104 356,-110 356,-116 356,-116 356,-175 356,-175 356,-181 350,-187 344,-187\"/>\n",
       "<text text-anchor=\"middle\" x=\"262.5\" y=\"-171.8\" font-family=\"Helvetica,sans-Serif\" font-size=\"14.00\" fill=\"#000000\">Global_coefficient &lt;= 0.566</text>\n",
       "<text text-anchor=\"middle\" x=\"262.5\" y=\"-156.8\" font-family=\"Helvetica,sans-Serif\" font-size=\"14.00\" fill=\"#000000\">entropy = 0.811</text>\n",
       "<text text-anchor=\"middle\" x=\"262.5\" y=\"-141.8\" font-family=\"Helvetica,sans-Serif\" font-size=\"14.00\" fill=\"#000000\">samples = 4</text>\n",
       "<text text-anchor=\"middle\" x=\"262.5\" y=\"-126.8\" font-family=\"Helvetica,sans-Serif\" font-size=\"14.00\" fill=\"#000000\">value = [1, 3]</text>\n",
       "<text text-anchor=\"middle\" x=\"262.5\" y=\"-111.8\" font-family=\"Helvetica,sans-Serif\" font-size=\"14.00\" fill=\"#000000\">class = AD</text>\n",
       "</g>\n",
       "<!-- 3&#45;&gt;5 -->\n",
       "<g id=\"edge5\" class=\"edge\">\n",
       "<title>3&#45;&gt;5</title>\n",
       "<path fill=\"none\" stroke=\"#000000\" d=\"M209.8299,-222.8796C215.7763,-214.1434 222.1086,-204.8404 228.245,-195.8253\"/>\n",
       "<polygon fill=\"#000000\" stroke=\"#000000\" points=\"231.3156,-197.5342 234.0492,-187.2981 225.5289,-193.5953 231.3156,-197.5342\"/>\n",
       "</g>\n",
       "<!-- 6 -->\n",
       "<g id=\"node7\" class=\"node\">\n",
       "<title>6</title>\n",
       "<path fill=\"#399de5\" stroke=\"#000000\" d=\"M241,-68C241,-68 166,-68 166,-68 160,-68 154,-62 154,-56 154,-56 154,-12 154,-12 154,-6 160,0 166,0 166,0 241,0 241,0 247,0 253,-6 253,-12 253,-12 253,-56 253,-56 253,-62 247,-68 241,-68\"/>\n",
       "<text text-anchor=\"middle\" x=\"203.5\" y=\"-52.8\" font-family=\"Helvetica,sans-Serif\" font-size=\"14.00\" fill=\"#000000\">entropy = 0.0</text>\n",
       "<text text-anchor=\"middle\" x=\"203.5\" y=\"-37.8\" font-family=\"Helvetica,sans-Serif\" font-size=\"14.00\" fill=\"#000000\">samples = 3</text>\n",
       "<text text-anchor=\"middle\" x=\"203.5\" y=\"-22.8\" font-family=\"Helvetica,sans-Serif\" font-size=\"14.00\" fill=\"#000000\">value = [0, 3]</text>\n",
       "<text text-anchor=\"middle\" x=\"203.5\" y=\"-7.8\" font-family=\"Helvetica,sans-Serif\" font-size=\"14.00\" fill=\"#000000\">class = AD</text>\n",
       "</g>\n",
       "<!-- 5&#45;&gt;6 -->\n",
       "<g id=\"edge6\" class=\"edge\">\n",
       "<title>5&#45;&gt;6</title>\n",
       "<path fill=\"none\" stroke=\"#000000\" d=\"M240.5306,-103.9815C235.9105,-95.2504 231.0264,-86.0202 226.374,-77.2281\"/>\n",
       "<polygon fill=\"#000000\" stroke=\"#000000\" points=\"229.4013,-75.4655 221.6306,-68.2637 223.2141,-78.7395 229.4013,-75.4655\"/>\n",
       "</g>\n",
       "<!-- 7 -->\n",
       "<g id=\"node8\" class=\"node\">\n",
       "<title>7</title>\n",
       "<path fill=\"#e58139\" stroke=\"#000000\" d=\"M358,-68C358,-68 283,-68 283,-68 277,-68 271,-62 271,-56 271,-56 271,-12 271,-12 271,-6 277,0 283,0 283,0 358,0 358,0 364,0 370,-6 370,-12 370,-12 370,-56 370,-56 370,-62 364,-68 358,-68\"/>\n",
       "<text text-anchor=\"middle\" x=\"320.5\" y=\"-52.8\" font-family=\"Helvetica,sans-Serif\" font-size=\"14.00\" fill=\"#000000\">entropy = 0.0</text>\n",
       "<text text-anchor=\"middle\" x=\"320.5\" y=\"-37.8\" font-family=\"Helvetica,sans-Serif\" font-size=\"14.00\" fill=\"#000000\">samples = 1</text>\n",
       "<text text-anchor=\"middle\" x=\"320.5\" y=\"-22.8\" font-family=\"Helvetica,sans-Serif\" font-size=\"14.00\" fill=\"#000000\">value = [1, 0]</text>\n",
       "<text text-anchor=\"middle\" x=\"320.5\" y=\"-7.8\" font-family=\"Helvetica,sans-Serif\" font-size=\"14.00\" fill=\"#000000\">class = AD</text>\n",
       "</g>\n",
       "<!-- 5&#45;&gt;7 -->\n",
       "<g id=\"edge7\" class=\"edge\">\n",
       "<title>5&#45;&gt;7</title>\n",
       "<path fill=\"none\" stroke=\"#000000\" d=\"M284.0971,-103.9815C288.6388,-95.2504 293.4402,-86.0202 298.0137,-77.2281\"/>\n",
       "<polygon fill=\"#000000\" stroke=\"#000000\" points=\"301.1669,-78.7504 302.6767,-68.2637 294.9569,-75.52 301.1669,-78.7504\"/>\n",
       "</g>\n",
       "</g>\n",
       "</svg>\n"
      ],
      "text/plain": [
       "<graphviz.files.Source at 0x7fa66d0a6b90>"
      ]
     },
     "execution_count": 55,
     "metadata": {},
     "output_type": "execute_result"
    }
   ],
   "source": [
    "#plotting graph of the decision tree\n",
    "\n",
    "column_names = list(X.columns) \n",
    "print(column_names)\n",
    "\n",
    "dot_data = export_graphviz(dt, out_file=None,  \n",
    "    feature_names=column_names,                        \n",
    "    class_names=data['Disease'],  \n",
    "    filled=True, rounded=True,  \n",
    "    special_characters=False)\n",
    "graph = graphviz.Source(dot_data)\n",
    "graph"
   ]
  },
  {
   "cell_type": "code",
   "execution_count": 41,
   "metadata": {},
   "outputs": [
    {
     "name": "stdout",
     "output_type": "stream",
     "text": [
      "Importance of feature Global_coefficient:, 0.042\n",
      "Importance of feature Glocal_efficiency:, 0.047\n",
      "Importance of feature Degree_variance(heterogeneity):, 0.111\n",
      "Importance of feature rich_club:, 0.800\n"
     ]
    }
   ],
   "source": [
    "#feature importance\n",
    "for i, column in enumerate(column_names):\n",
    "    if dt.feature_importances_[i] > 0:\n",
    "        print('Importance of feature {}:, {:.3f}'.format(column, dt.feature_importances_[i]))\n"
   ]
  },
  {
   "cell_type": "code",
   "execution_count": 42,
   "metadata": {},
   "outputs": [],
   "source": [
    "#defining confusion matrix\n",
    "def plot_confusion_matrix(cm, classes=None, title='Confusion matrix'):\n",
    "    \"\"\"Plots a confusion matrix.\"\"\"\n",
    "    if classes is not None:\n",
    "        sns.heatmap(cm, xticklabels=classes, yticklabels=classes, vmin=0., vmax=1., annot=True)\n",
    "    else:\n",
    "        sns.heatmap(cm, vmin=0., vmax=1.)\n",
    "    plt.title(title)\n",
    "    plt.ylabel('True label')\n",
    "    plt.xlabel('Predicted label')"
   ]
  },
  {
   "cell_type": "code",
   "execution_count": 43,
   "metadata": {},
   "outputs": [
    {
     "name": "stdout",
     "output_type": "stream",
     "text": [
      "[[36  3]\n",
      " [ 2 37]]\n"
     ]
    }
   ],
   "source": [
    "from sklearn.model_selection import cross_val_predict\n",
    "from sklearn.metrics import confusion_matrix\n",
    "\n",
    "y_pred = cross_val_predict(dt, X, y, cv=loo)\n",
    "cm = confusion_matrix(y, y_pred)\n",
    "print(cm)\n",
    "#plt.figure()\n",
    "#(cm, classes = dt.classes_, title='Test confusion')"
   ]
  },
  {
   "cell_type": "code",
   "execution_count": 23,
   "metadata": {},
   "outputs": [
    {
     "data": {
      "text/plain": [
       "(array([0.94736842, 0.925     ]),\n",
       " array([0.92307692, 0.94871795]),\n",
       " array([0.93506494, 0.93670886]),\n",
       " array([39, 39]))"
      ]
     },
     "execution_count": 23,
     "metadata": {},
     "output_type": "execute_result"
    }
   ],
   "source": [
    "from sklearn.metrics import precision_recall_fscore_support\n",
    "precision_recall_fscore_support(y, y_pred, average=None)"
   ]
  },
  {
   "cell_type": "code",
   "execution_count": 24,
   "metadata": {},
   "outputs": [
    {
     "data": {
      "image/png": "[encoded data removed]",
      "text/plain": [
       "<Figure size 1440x504 with 7 Axes>"
      ]
     },
     "metadata": {
      "needs_background": "light"
     },
     "output_type": "display_data"
    }
   ],
   "source": [
    "# box and whisker plots\n",
    "data.plot(kind='box', subplots=True, sharex=False, sharey=False, figsize = (20,7))\n",
    "pyplot.show()"
   ]
  },
  {
   "cell_type": "code",
   "execution_count": 25,
   "metadata": {},
   "outputs": [
    {
     "data": {
      "image/png": "[encoded data removed]",
      "text/plain": [
       "<Figure size 1080x720 with 9 Axes>"
      ]
     },
     "metadata": {
      "needs_background": "light"
     },
     "output_type": "display_data"
    }
   ],
   "source": [
    "# histograms\n",
    "data.hist(figsize = (15,10))\n",
    "pyplot.show()\n"
   ]
  },
  {
   "cell_type": "code",
   "execution_count": null,
   "metadata": {},
   "outputs": [],
   "source": []
  }
 ],
 "metadata": {
  "kernelspec": {
   "display_name": "Python 3",
   "language": "python",
   "name": "python3"
  },
  "language_info": {
   "codemirror_mode": {
    "name": "ipython",
    "version": 3
   },
   "file_extension": ".py",
   "mimetype": "text/x-python",
   "name": "python",
   "nbconvert_exporter": "python",
   "pygments_lexer": "ipython3",
   "version": "3.7.7"
  }
 },
 "nbformat": 4,
 "nbformat_minor": 4
}
